{
 "cells": [
  {
   "cell_type": "markdown",
   "metadata": {},
   "source": [
    "\n",
    "\n",
    "* [Loading and exploring the file](#load_file)\n",
    "\n",
    "\n",
    "\n",
    "* [Bitcoin exploration](#bitcoin)\n",
    "\n",
    "    * [Bitcoin trading volume on 10 Random Days](#10_rand)\n",
    "    * [Bitcoin trading volume from the top 10 rows of the file](#top10)\n",
    "    * [Doodles to get the functions right. aka SHOW YOUR WORK](#doodles)\n",
    "    * [Function to calculate montly price movements](#moth_diff)\n",
    "    "
   ]
  },
  {
   "cell_type": "code",
   "execution_count": 87,
   "metadata": {},
   "outputs": [
    {
     "name": "stdout",
     "output_type": "stream",
     "text": [
      "['consolidated_coin_data.csv', 'Untitled.ipynb', 'get_csv', '.ipynb_checkpoints']\n"
     ]
    }
   ],
   "source": [
    "import os\n",
    "import pandas as pd\n",
    "import numpy as np\n",
    "import matplotlib.pyplot as plt\n",
    "import seaborn as sns\n",
    "\n",
    "from datetime import datetime\n",
    "\n",
    "print(os.listdir())"
   ]
  },
  {
   "cell_type": "markdown",
   "metadata": {},
   "source": [
    "<a id = 'load_file'></a> \n",
    "\n",
    "## Load and and look at the file\n"
   ]
  },
  {
   "cell_type": "code",
   "execution_count": 14,
   "metadata": {
    "scrolled": true
   },
   "outputs": [
    {
     "name": "stderr",
     "output_type": "stream",
     "text": [
      "/home/sanwal092/anaconda3/lib/python3.6/site-packages/IPython/core/interactiveshell.py:2698: DtypeWarning: Columns (2,3,4,5) have mixed types. Specify dtype option on import or set low_memory=False.\n",
      "  interactivity=interactivity, compiler=compiler, result=result)\n"
     ]
    },
    {
     "data": {
      "text/html": [
       "<div>\n",
       "<style>\n",
       "    .dataframe thead tr:only-child th {\n",
       "        text-align: right;\n",
       "    }\n",
       "\n",
       "    .dataframe thead th {\n",
       "        text-align: left;\n",
       "    }\n",
       "\n",
       "    .dataframe tbody tr th {\n",
       "        vertical-align: top;\n",
       "    }\n",
       "</style>\n",
       "<table border=\"1\" class=\"dataframe\">\n",
       "  <thead>\n",
       "    <tr style=\"text-align: right;\">\n",
       "      <th></th>\n",
       "      <th>Currency</th>\n",
       "      <th>Date</th>\n",
       "      <th>Open</th>\n",
       "      <th>High</th>\n",
       "      <th>Low</th>\n",
       "      <th>Close</th>\n",
       "      <th>Volume</th>\n",
       "      <th>Market Cap</th>\n",
       "    </tr>\n",
       "  </thead>\n",
       "  <tbody>\n",
       "    <tr>\n",
       "      <th>0</th>\n",
       "      <td>0x</td>\n",
       "      <td>11-Feb-18</td>\n",
       "      <td>1.09</td>\n",
       "      <td>1.09</td>\n",
       "      <td>0.934155</td>\n",
       "      <td>0.979054</td>\n",
       "      <td>4,888,770</td>\n",
       "      <td>555,363,000</td>\n",
       "    </tr>\n",
       "    <tr>\n",
       "      <th>1</th>\n",
       "      <td>0x</td>\n",
       "      <td>10-Feb-18</td>\n",
       "      <td>1.14</td>\n",
       "      <td>1.2</td>\n",
       "      <td>0.985705</td>\n",
       "      <td>1.1</td>\n",
       "      <td>10,828,700</td>\n",
       "      <td>576,535,000</td>\n",
       "    </tr>\n",
       "    <tr>\n",
       "      <th>2</th>\n",
       "      <td>0x</td>\n",
       "      <td>9-Feb-18</td>\n",
       "      <td>1.08</td>\n",
       "      <td>1.15</td>\n",
       "      <td>1.01</td>\n",
       "      <td>1.14</td>\n",
       "      <td>5,979,420</td>\n",
       "      <td>545,842,000</td>\n",
       "    </tr>\n",
       "    <tr>\n",
       "      <th>3</th>\n",
       "      <td>0x</td>\n",
       "      <td>8-Feb-18</td>\n",
       "      <td>0.988963</td>\n",
       "      <td>1.13</td>\n",
       "      <td>0.988963</td>\n",
       "      <td>1.07</td>\n",
       "      <td>12,992,800</td>\n",
       "      <td>501,142,000</td>\n",
       "    </tr>\n",
       "    <tr>\n",
       "      <th>4</th>\n",
       "      <td>0x</td>\n",
       "      <td>7-Feb-18</td>\n",
       "      <td>1.01</td>\n",
       "      <td>1.16</td>\n",
       "      <td>0.902145</td>\n",
       "      <td>0.993355</td>\n",
       "      <td>13,476,600</td>\n",
       "      <td>513,163,000</td>\n",
       "    </tr>\n",
       "  </tbody>\n",
       "</table>\n",
       "</div>"
      ],
      "text/plain": [
       "  Currency       Date      Open  High       Low     Close      Volume  \\\n",
       "0       0x  11-Feb-18      1.09  1.09  0.934155  0.979054   4,888,770   \n",
       "1       0x  10-Feb-18      1.14   1.2  0.985705       1.1  10,828,700   \n",
       "2       0x   9-Feb-18      1.08  1.15      1.01      1.14   5,979,420   \n",
       "3       0x   8-Feb-18  0.988963  1.13  0.988963      1.07  12,992,800   \n",
       "4       0x   7-Feb-18      1.01  1.16  0.902145  0.993355  13,476,600   \n",
       "\n",
       "    Market Cap  \n",
       "0  555,363,000  \n",
       "1  576,535,000  \n",
       "2  545,842,000  \n",
       "3  501,142,000  \n",
       "4  513,163,000  "
      ]
     },
     "execution_count": 14,
     "metadata": {},
     "output_type": "execute_result"
    }
   ],
   "source": [
    "\n",
    "\n",
    "file = pd.read_csv('consolidated_coin_data.csv')\n",
    "\n",
    "#  pd.to_datetime(raw_data['Mycol']\n",
    "# file['Date'] = pd.to_datetime(file['Date'])\n",
    "file.head()"
   ]
  },
  {
   "cell_type": "code",
   "execution_count": 13,
   "metadata": {},
   "outputs": [],
   "source": [
    "# file['Date']= file\n",
    "# file= pd.to_datetime(file)\n",
    "\n",
    "# file['Date'] = pd.to_datetime(file['Date'],format='%d-%b-%y')\n",
    "\n",
    "# file['Date'].loc[[1]]"
   ]
  },
  {
   "cell_type": "code",
   "execution_count": 15,
   "metadata": {},
   "outputs": [
    {
     "data": {
      "text/plain": [
       "Currency      object\n",
       "Date          object\n",
       "Open          object\n",
       "High          object\n",
       "Low           object\n",
       "Close         object\n",
       "Volume        object\n",
       "Market Cap    object\n",
       "dtype: object"
      ]
     },
     "execution_count": 15,
     "metadata": {},
     "output_type": "execute_result"
    }
   ],
   "source": [
    "file.sample(5).dtypes"
   ]
  },
  {
   "cell_type": "code",
   "execution_count": 16,
   "metadata": {},
   "outputs": [
    {
     "data": {
      "text/plain": [
       "0"
      ]
     },
     "execution_count": 16,
     "metadata": {},
     "output_type": "execute_result"
    }
   ],
   "source": [
    "# file.isnull().sum() # No null rows\n",
    "# pd.isnull(file).any(axis = 1).sum() # no nan values in columns \n",
    "pd.isnull(file).any(axis = 0).sum()  # no NaN values in rows"
   ]
  },
  {
   "cell_type": "markdown",
   "metadata": {},
   "source": [
    "\n",
    "\n",
    "## There are 5 cryptocurrencies in this file"
   ]
  },
  {
   "cell_type": "code",
   "execution_count": 17,
   "metadata": {
    "scrolled": true
   },
   "outputs": [
    {
     "data": {
      "text/plain": [
       "litecoin    1751\n",
       "bitcoin     1751\n",
       "peercoin    1750\n",
       "ripple      1653\n",
       "nxt         1531\n",
       "Name: Currency, dtype: int64"
      ]
     },
     "execution_count": 17,
     "metadata": {},
     "output_type": "execute_result"
    }
   ],
   "source": [
    "file['Currency'].value_counts().head(5)"
   ]
  },
  {
   "cell_type": "markdown",
   "metadata": {},
   "source": [
    "<a id = \"bitcoin\"></a>\n",
    "\n",
    "# BITCOIN "
   ]
  },
  {
   "cell_type": "code",
   "execution_count": 18,
   "metadata": {},
   "outputs": [
    {
     "data": {
      "text/html": [
       "<div>\n",
       "<style>\n",
       "    .dataframe thead tr:only-child th {\n",
       "        text-align: right;\n",
       "    }\n",
       "\n",
       "    .dataframe thead th {\n",
       "        text-align: left;\n",
       "    }\n",
       "\n",
       "    .dataframe tbody tr th {\n",
       "        vertical-align: top;\n",
       "    }\n",
       "</style>\n",
       "<table border=\"1\" class=\"dataframe\">\n",
       "  <thead>\n",
       "    <tr style=\"text-align: right;\">\n",
       "      <th></th>\n",
       "      <th>Date</th>\n",
       "      <th>Open</th>\n",
       "      <th>High</th>\n",
       "      <th>Low</th>\n",
       "      <th>Close</th>\n",
       "      <th>Volume</th>\n",
       "      <th>Market Cap</th>\n",
       "    </tr>\n",
       "  </thead>\n",
       "  <tbody>\n",
       "    <tr>\n",
       "      <th>6478</th>\n",
       "      <td>2018-02-11</td>\n",
       "      <td>8616.13</td>\n",
       "      <td>8616.13</td>\n",
       "      <td>7931.1</td>\n",
       "      <td>8129.97</td>\n",
       "      <td>6,122,190,000</td>\n",
       "      <td>145,245,000,000</td>\n",
       "    </tr>\n",
       "    <tr>\n",
       "      <th>6479</th>\n",
       "      <td>2018-02-10</td>\n",
       "      <td>8720.08</td>\n",
       "      <td>9122.55</td>\n",
       "      <td>8295.47</td>\n",
       "      <td>8621.9</td>\n",
       "      <td>7,780,960,000</td>\n",
       "      <td>146,981,000,000</td>\n",
       "    </tr>\n",
       "    <tr>\n",
       "      <th>6480</th>\n",
       "      <td>2018-02-09</td>\n",
       "      <td>8271.84</td>\n",
       "      <td>8736.98</td>\n",
       "      <td>7884.71</td>\n",
       "      <td>8736.98</td>\n",
       "      <td>6,784,820,000</td>\n",
       "      <td>139,412,000,000</td>\n",
       "    </tr>\n",
       "    <tr>\n",
       "      <th>6481</th>\n",
       "      <td>2018-02-08</td>\n",
       "      <td>7637.86</td>\n",
       "      <td>8558.77</td>\n",
       "      <td>7637.86</td>\n",
       "      <td>8265.59</td>\n",
       "      <td>9,346,750,000</td>\n",
       "      <td>128,714,000,000</td>\n",
       "    </tr>\n",
       "    <tr>\n",
       "      <th>6482</th>\n",
       "      <td>2018-02-07</td>\n",
       "      <td>7755.49</td>\n",
       "      <td>8509.11</td>\n",
       "      <td>7236.79</td>\n",
       "      <td>7621.3</td>\n",
       "      <td>9,169,280,000</td>\n",
       "      <td>130,683,000,000</td>\n",
       "    </tr>\n",
       "  </tbody>\n",
       "</table>\n",
       "</div>"
      ],
      "text/plain": [
       "           Date     Open     High      Low    Close         Volume  \\\n",
       "6478 2018-02-11  8616.13  8616.13   7931.1  8129.97  6,122,190,000   \n",
       "6479 2018-02-10  8720.08  9122.55  8295.47   8621.9  7,780,960,000   \n",
       "6480 2018-02-09  8271.84  8736.98  7884.71  8736.98  6,784,820,000   \n",
       "6481 2018-02-08  7637.86  8558.77  7637.86  8265.59  9,346,750,000   \n",
       "6482 2018-02-07  7755.49  8509.11  7236.79   7621.3  9,169,280,000   \n",
       "\n",
       "           Market Cap  \n",
       "6478  145,245,000,000  \n",
       "6479  146,981,000,000  \n",
       "6480  139,412,000,000  \n",
       "6481  128,714,000,000  \n",
       "6482  130,683,000,000  "
      ]
     },
     "execution_count": 18,
     "metadata": {},
     "output_type": "execute_result"
    }
   ],
   "source": [
    "pd_bitcoin = file[file['Currency']=='bitcoin']\n",
    "pd_bitcoin = pd_bitcoin.drop(['Currency'], axis =1)\n",
    "\n",
    "\n",
    "pd_bitcoin.Date = pd.to_datetime(pd_bitcoin['Date'], format = '%d-%b-%y')\n",
    "\n",
    "\n",
    "pd_bitcoin.head(5)\n"
   ]
  },
  {
   "cell_type": "code",
   "execution_count": 19,
   "metadata": {},
   "outputs": [
    {
     "name": "stdout",
     "output_type": "stream",
     "text": [
      "9959400000 10291200000\n"
     ]
    },
    {
     "data": {
      "text/plain": [
       "False"
      ]
     },
     "execution_count": 19,
     "metadata": {},
     "output_type": "execute_result"
    }
   ],
   "source": [
    "max_val = int(pd_bitcoin['Volume'].head(100).max().replace(',',''))\n",
    "min_val = int(pd_bitcoin['Volume'].head(100).min().replace(',',''))\n",
    "print(max_val, min_val)\n",
    "min_val<max_val"
   ]
  },
  {
   "cell_type": "markdown",
   "metadata": {},
   "source": [
    "## In the following cell, I am creating a variable called y_vals. You can use this if you need to set the y-ticks of the graphs."
   ]
  },
  {
   "cell_type": "code",
   "execution_count": 20,
   "metadata": {
    "collapsed": true
   },
   "outputs": [],
   "source": [
    "\n",
    "# This cell is to create y-ticks if need be....\n",
    "\n",
    "y_vals = np.arange(int(max(pd_bitcoin['Volume'].head(100)).replace(',','')),int(min(pd_bitcoin['Volume'].head(100)).replace(',',''))\n",
    " )\n",
    "\n",
    "\n",
    "## These are just doodles to get the above statement right.\n",
    "# maxi = int(max(pd_bitcoin['Volume'].head(100)).replace(',',''))\n",
    "# mini =int(min(pd_bitcoin['Volume'].head(100)).replace(',',''))\n",
    "\n",
    "# print(maxi, mini)\n",
    "# mini<maxi\n"
   ]
  },
  {
   "cell_type": "markdown",
   "metadata": {},
   "source": [
    "<a id = '10_rand'></a>\n",
    "\n",
    "## In the following cell, I am plotting the day vs volume graphs of 10 random days picked from the file"
   ]
  },
  {
   "cell_type": "code",
   "execution_count": 26,
   "metadata": {},
   "outputs": [
    {
     "data": {
      "image/png": "[encoded data removed]",
      "text/plain": [
       "<Figure size 504x504 with 1 Axes>"
      ]
     },
     "metadata": {},
     "output_type": "display_data"
    }
   ],
   "source": [
    "fig = plt.figure(figsize= (7,7))\n",
    "\n",
    "# plt.plot(pd_bitcoin.Date.head(10), pd_bitcoin.Volume.head(10))\n",
    "plt.plot(pd_bitcoin.Date.sample(10), pd_bitcoin.Volume.sample(10))\n",
    "fig.autofmt_xdate(rotation = 45)\n",
    "plt.title('Volume of Bitcoin on 10 Randomly chosen days')\n",
    "plt.xlabel('Date')\n",
    "plt.ylabel('Volume of Bitcoin')\n",
    "plt.show(fig)"
   ]
  },
  {
   "cell_type": "markdown",
   "metadata": {},
   "source": [
    "<a id = 'top10'></a>\n",
    "\n",
    "## In the following cell, I am plotting the day vs volume graphs of of the top 10 columns in the file "
   ]
  },
  {
   "cell_type": "code",
   "execution_count": null,
   "metadata": {
    "collapsed": true
   },
   "outputs": [],
   "source": []
  },
  {
   "cell_type": "code",
   "execution_count": 27,
   "metadata": {},
   "outputs": [
    {
     "data": {
      "image/png": "[encoded data removed]",
      "text/plain": [
       "<Figure size 504x504 with 1 Axes>"
      ]
     },
     "metadata": {},
     "output_type": "display_data"
    }
   ],
   "source": [
    "fig = plt.figure(figsize= (7,7))\n",
    "\n",
    "plt.plot(pd_bitcoin.Date.head(10), pd_bitcoin.Volume.head(10))\n",
    "# plt.plot(pd_bitcoin.Date.sample(10), pd_bitcoin.Volume.sample(10))\n",
    "fig.autofmt_xdate()\n",
    "plt.title('Volume of Bitcoin on 10 most recent dates of trading')\n",
    "plt.xlabel('Date')\n",
    "plt.ylabel('Volume of Bitcoin')\n",
    "plt.show(fig)"
   ]
  },
  {
   "cell_type": "markdown",
   "metadata": {},
   "source": [
    "<a id = 'doodles'></a>\n",
    "\n",
    "# Doodlees to get things right for the function 'month_diff'"
   ]
  },
  {
   "cell_type": "code",
   "execution_count": 30,
   "metadata": {
    "scrolled": true
   },
   "outputs": [
    {
     "data": {
      "text/plain": [
       "Date    datetime64[ns]\n",
       "High            object\n",
       "Low             object\n",
       "dtype: object"
      ]
     },
     "execution_count": 30,
     "metadata": {},
     "output_type": "execute_result"
    }
   ],
   "source": [
    "pd_dhl = pd_bitcoin[['Date','High','Low']]\n",
    "\n",
    "# pd_month_jan =  pd_month.loc[]\n",
    "mask = (pd_dhl['Date'] >'2017-01') & (pd_dhl['Date'] <= '2017-12-31')\n",
    "mask\n",
    "\n",
    "pd_2k17 = pd_dhl.loc[mask]\n",
    "# pd_2k17['Date ']=pd_2k17['Date'].astype(str)\n",
    "# pd_dhl['Date'] =pd.DatetimeIndex(pd_dhl['Date'])\n",
    "# df_month.head()\n",
    "# df_month.sample(10)\n",
    "# df_month\n",
    "# pd_dhl.head()\n",
    "# pd_dhl.dtypes\n",
    "\n",
    "pd_2k17.head()\n",
    "pd_2k17.dtypes"
   ]
  },
  {
   "cell_type": "code",
   "execution_count": 41,
   "metadata": {},
   "outputs": [
    {
     "name": "stderr",
     "output_type": "stream",
     "text": [
      "/home/sanwal092/anaconda3/lib/python3.6/site-packages/ipykernel_launcher.py:8: SettingWithCopyWarning: \n",
      "A value is trying to be set on a copy of a slice from a DataFrame.\n",
      "Try using .loc[row_indexer,col_indexer] = value instead\n",
      "\n",
      "See the caveats in the documentation: http://pandas.pydata.org/pandas-docs/stable/indexing.html#indexing-view-versus-copy\n",
      "  \n"
     ]
    },
    {
     "data": {
      "text/html": [
       "<div>\n",
       "<style>\n",
       "    .dataframe thead tr:only-child th {\n",
       "        text-align: right;\n",
       "    }\n",
       "\n",
       "    .dataframe thead th {\n",
       "        text-align: left;\n",
       "    }\n",
       "\n",
       "    .dataframe tbody tr th {\n",
       "        vertical-align: top;\n",
       "    }\n",
       "</style>\n",
       "<table border=\"1\" class=\"dataframe\">\n",
       "  <thead>\n",
       "    <tr style=\"text-align: right;\">\n",
       "      <th></th>\n",
       "      <th>Date</th>\n",
       "      <th>High</th>\n",
       "      <th>Low</th>\n",
       "    </tr>\n",
       "  </thead>\n",
       "  <tbody>\n",
       "    <tr>\n",
       "      <th>6854</th>\n",
       "      <td>2017-01-31</td>\n",
       "      <td>972.02</td>\n",
       "      <td>920.96</td>\n",
       "    </tr>\n",
       "    <tr>\n",
       "      <th>6855</th>\n",
       "      <td>2017-01-30</td>\n",
       "      <td>923.05</td>\n",
       "      <td>919.47</td>\n",
       "    </tr>\n",
       "    <tr>\n",
       "      <th>6856</th>\n",
       "      <td>2017-01-29</td>\n",
       "      <td>923.42</td>\n",
       "      <td>919.15</td>\n",
       "    </tr>\n",
       "    <tr>\n",
       "      <th>6857</th>\n",
       "      <td>2017-01-28</td>\n",
       "      <td>923.91</td>\n",
       "      <td>919.81</td>\n",
       "    </tr>\n",
       "    <tr>\n",
       "      <th>6858</th>\n",
       "      <td>2017-01-27</td>\n",
       "      <td>923.22</td>\n",
       "      <td>915.85</td>\n",
       "    </tr>\n",
       "    <tr>\n",
       "      <th>6859</th>\n",
       "      <td>2017-01-26</td>\n",
       "      <td>919.33</td>\n",
       "      <td>902.22</td>\n",
       "    </tr>\n",
       "    <tr>\n",
       "      <th>6860</th>\n",
       "      <td>2017-01-25</td>\n",
       "      <td>903.25</td>\n",
       "      <td>891.69</td>\n",
       "    </tr>\n",
       "    <tr>\n",
       "      <th>6861</th>\n",
       "      <td>2017-01-24</td>\n",
       "      <td>924.14</td>\n",
       "      <td>892.29</td>\n",
       "    </tr>\n",
       "    <tr>\n",
       "      <th>6862</th>\n",
       "      <td>2017-01-23</td>\n",
       "      <td>928.27</td>\n",
       "      <td>916.74</td>\n",
       "    </tr>\n",
       "    <tr>\n",
       "      <th>6863</th>\n",
       "      <td>2017-01-22</td>\n",
       "      <td>937.52</td>\n",
       "      <td>897.56</td>\n",
       "    </tr>\n",
       "    <tr>\n",
       "      <th>6864</th>\n",
       "      <td>2017-01-21</td>\n",
       "      <td>927.37</td>\n",
       "      <td>895.53</td>\n",
       "    </tr>\n",
       "    <tr>\n",
       "      <th>6865</th>\n",
       "      <td>2017-01-20</td>\n",
       "      <td>899.4</td>\n",
       "      <td>887.01</td>\n",
       "    </tr>\n",
       "    <tr>\n",
       "      <th>6866</th>\n",
       "      <td>2017-01-19</td>\n",
       "      <td>904.61</td>\n",
       "      <td>884.34</td>\n",
       "    </tr>\n",
       "    <tr>\n",
       "      <th>6867</th>\n",
       "      <td>2017-01-18</td>\n",
       "      <td>917.5</td>\n",
       "      <td>858.3</td>\n",
       "    </tr>\n",
       "    <tr>\n",
       "      <th>6868</th>\n",
       "      <td>2017-01-17</td>\n",
       "      <td>910.56</td>\n",
       "      <td>830.8</td>\n",
       "    </tr>\n",
       "    <tr>\n",
       "      <th>6869</th>\n",
       "      <td>2017-01-16</td>\n",
       "      <td>834.53</td>\n",
       "      <td>820.27</td>\n",
       "    </tr>\n",
       "    <tr>\n",
       "      <th>6870</th>\n",
       "      <td>2017-01-15</td>\n",
       "      <td>823.31</td>\n",
       "      <td>812.87</td>\n",
       "    </tr>\n",
       "    <tr>\n",
       "      <th>6871</th>\n",
       "      <td>2017-01-14</td>\n",
       "      <td>835.09</td>\n",
       "      <td>812.46</td>\n",
       "    </tr>\n",
       "    <tr>\n",
       "      <th>6872</th>\n",
       "      <td>2017-01-13</td>\n",
       "      <td>829</td>\n",
       "      <td>780</td>\n",
       "    </tr>\n",
       "    <tr>\n",
       "      <th>6873</th>\n",
       "      <td>2017-01-12</td>\n",
       "      <td>826.25</td>\n",
       "      <td>755.76</td>\n",
       "    </tr>\n",
       "    <tr>\n",
       "      <th>6874</th>\n",
       "      <td>2017-01-11</td>\n",
       "      <td>919.45</td>\n",
       "      <td>762.76</td>\n",
       "    </tr>\n",
       "    <tr>\n",
       "      <th>6875</th>\n",
       "      <td>2017-01-10</td>\n",
       "      <td>914.87</td>\n",
       "      <td>901.06</td>\n",
       "    </tr>\n",
       "    <tr>\n",
       "      <th>6876</th>\n",
       "      <td>2017-01-09</td>\n",
       "      <td>913.69</td>\n",
       "      <td>879.81</td>\n",
       "    </tr>\n",
       "    <tr>\n",
       "      <th>6877</th>\n",
       "      <td>2017-01-08</td>\n",
       "      <td>942.72</td>\n",
       "      <td>887.25</td>\n",
       "    </tr>\n",
       "    <tr>\n",
       "      <th>6878</th>\n",
       "      <td>2017-01-07</td>\n",
       "      <td>908.59</td>\n",
       "      <td>823.56</td>\n",
       "    </tr>\n",
       "    <tr>\n",
       "      <th>6879</th>\n",
       "      <td>2017-01-06</td>\n",
       "      <td>1046.81</td>\n",
       "      <td>883.94</td>\n",
       "    </tr>\n",
       "    <tr>\n",
       "      <th>6880</th>\n",
       "      <td>2017-01-05</td>\n",
       "      <td>1191.1</td>\n",
       "      <td>910.42</td>\n",
       "    </tr>\n",
       "    <tr>\n",
       "      <th>6881</th>\n",
       "      <td>2017-01-04</td>\n",
       "      <td>1159.42</td>\n",
       "      <td>1044.4</td>\n",
       "    </tr>\n",
       "    <tr>\n",
       "      <th>6882</th>\n",
       "      <td>2017-01-03</td>\n",
       "      <td>1044.08</td>\n",
       "      <td>1021.6</td>\n",
       "    </tr>\n",
       "    <tr>\n",
       "      <th>6883</th>\n",
       "      <td>2017-01-02</td>\n",
       "      <td>1031.39</td>\n",
       "      <td>996.7</td>\n",
       "    </tr>\n",
       "  </tbody>\n",
       "</table>\n",
       "</div>"
      ],
      "text/plain": [
       "           Date     High     Low\n",
       "6854 2017-01-31   972.02  920.96\n",
       "6855 2017-01-30   923.05  919.47\n",
       "6856 2017-01-29   923.42  919.15\n",
       "6857 2017-01-28   923.91  919.81\n",
       "6858 2017-01-27   923.22  915.85\n",
       "6859 2017-01-26   919.33  902.22\n",
       "6860 2017-01-25   903.25  891.69\n",
       "6861 2017-01-24   924.14  892.29\n",
       "6862 2017-01-23   928.27  916.74\n",
       "6863 2017-01-22   937.52  897.56\n",
       "6864 2017-01-21   927.37  895.53\n",
       "6865 2017-01-20    899.4  887.01\n",
       "6866 2017-01-19   904.61  884.34\n",
       "6867 2017-01-18    917.5   858.3\n",
       "6868 2017-01-17   910.56   830.8\n",
       "6869 2017-01-16   834.53  820.27\n",
       "6870 2017-01-15   823.31  812.87\n",
       "6871 2017-01-14   835.09  812.46\n",
       "6872 2017-01-13      829     780\n",
       "6873 2017-01-12   826.25  755.76\n",
       "6874 2017-01-11   919.45  762.76\n",
       "6875 2017-01-10   914.87  901.06\n",
       "6876 2017-01-09   913.69  879.81\n",
       "6877 2017-01-08   942.72  887.25\n",
       "6878 2017-01-07   908.59  823.56\n",
       "6879 2017-01-06  1046.81  883.94\n",
       "6880 2017-01-05   1191.1  910.42\n",
       "6881 2017-01-04  1159.42  1044.4\n",
       "6882 2017-01-03  1044.08  1021.6\n",
       "6883 2017-01-02  1031.39   996.7"
      ]
     },
     "execution_count": 41,
     "metadata": {},
     "output_type": "execute_result"
    }
   ],
   "source": [
    "# test = pd_2k17['Date'].index.isin(['2017-01'])\n",
    "# test\n",
    "# pd_2k17[pd_2k17['Date'].dt.date.astype(str).contains('2017-01')]\n",
    "# pd_2k17[pd_2k17['Date'].month == '02']\n",
    "# pd_2k17.index\n",
    "\n",
    "# pd_2k17 = pd_2k17.loc['2017-01']\n",
    "pd_2k17['Date'] = pd.to_datetime(pd_2k17['Date'])\n",
    "# pd_2k17['Date'].dt.month\n",
    "# pd_2k17.head(10)\n",
    "\n",
    "pd_test = pd_2k17[pd_2k17['Date'].dt.month==1]\n",
    "pd_test"
   ]
  },
  {
   "cell_type": "code",
   "execution_count": 67,
   "metadata": {},
   "outputs": [
    {
     "name": "stdout",
     "output_type": "stream",
     "text": [
      "year: 2017\n",
      "begin: 2017-01-01 00:00:00\n",
      "end: 2017-12-31 00:00:00\n"
     ]
    }
   ],
   "source": [
    "from datetime import datetime\n",
    "\n",
    "year = '2017'\n",
    "\n",
    "year_str= str(year)\n",
    "begin_year = datetime.strptime(year_str+'-01-01', '%Y-%m-%d')\n",
    "end_year = datetime.strptime(year_str+'-12-31','%Y-%m-%d')\n",
    "print('year:', year_str)\n",
    "print('begin:', begin_year)\n",
    "print('end:', end_year)\n"
   ]
  },
  {
   "cell_type": "markdown",
   "metadata": {},
   "source": [
    "<a id = 'moth_diff'></a>\n",
    "\n",
    "# <font color = 'blue'> FUNCTION TO CALCULATE MONTHLY DIFFRENCE FOR BITCOIN</font>\n",
    "## <font color = 'green'> the function is called month_diff and it takes in two arguments: </font>\n",
    "\n",
    "* df = dataFrame containing all the information about a cryptocurrency created earliers.\n",
    "* year = The year you want to look at as a string. \n",
    "\n",
    "\n",
    "## <font color = 'green'>In the following function, I am doing the following things: </font>\n",
    "\n",
    "** * Taking a DataFrame for a cryptocurrency (bitcoin in this example) and the year you want to look at.   **\n",
    "\n",
    "** * Creating date time objects for the begining and end of the year in question, **\n",
    "\n",
    "** * Looping over the crypto dataFrame, filtering out each month of year, one by one. **\n",
    "\n",
    "** * Finding the maximum and minumum values for the cryptocurrency for that month **\n",
    "\n",
    "** * Then storing the value of that difference with Year-Month as the key to a dictionary. **\n",
    "\n",
    "** * Port that dictionary over as a dataFrame using Pandas from_dict function **\n"
   ]
  },
  {
   "cell_type": "code",
   "execution_count": 95,
   "metadata": {
    "collapsed": true
   },
   "outputs": [],
   "source": [
    "\n",
    "# high_low= pd_month[['Date','High','Low']]\n",
    "# max_month = int(float(high_low['High'].max()))\n",
    "# min_month = int(float(high_low['High'].min()))\n",
    "\n",
    "# diff_month = max_month-min_month  \n",
    "\n",
    "# print(min_month, max_month)\n",
    "# print(diff_month)"
   ]
  },
  {
   "cell_type": "code",
   "execution_count": 80,
   "metadata": {},
   "outputs": [
    {
     "name": "stderr",
     "output_type": "stream",
     "text": [
      "/home/sanwal092/anaconda3/lib/python3.6/site-packages/ipykernel_launcher.py:13: SettingWithCopyWarning: \n",
      "A value is trying to be set on a copy of a slice from a DataFrame.\n",
      "Try using .loc[row_indexer,col_indexer] = value instead\n",
      "\n",
      "See the caveats in the documentation: http://pandas.pydata.org/pandas-docs/stable/indexing.html#indexing-view-versus-copy\n",
      "  del sys.path[0]\n"
     ]
    }
   ],
   "source": [
    "from datetime import datetime\n",
    "def month_diff(df, year):\n",
    "    \n",
    "    month_move= {}\n",
    "    year_str= str(year)\n",
    "    begin_year = datetime.strptime(year_str+'-01-01', '%Y-%m-%d')\n",
    "    end_year = datetime.strptime(year_str+'-12-31','%Y-%m-%d')\n",
    "#     mask = (pd_dhl['Date'] >'2017-01') & (pd_dhl['Date'] <= '2017-12-31')\n",
    "    mask = (df['Date']>(begin_year)) & (df['Date']<=end_year)\n",
    "    df = df.loc[mask]\n",
    "        \n",
    "    high_low = df[['Date','High','Low']]\n",
    "    high_low['Date'] =pd.to_datetime(high_low['Date'])\n",
    "    \n",
    "#     Calculate the difference between the min and max of that month\n",
    "    for x in range(1,13):\n",
    "        month_df = high_low[high_low['Date'].dt.month==x]\n",
    "        max_month = int(float(month_df['High'].max()))\n",
    "        min_month = int(float(month_df['High'].min()))\n",
    "        diff_month = max_month-min_month  # calculate the difference in the month's movement\n",
    "        \n",
    "        key = year_str+'-'+str(x)\n",
    "        \n",
    "        if key in month_move:\n",
    "            continue\n",
    "        else:\n",
    "            month_move[key] = diff_month\n",
    "    year_df = pd.DataFrame.from_dict(month_move, orient = 'index').reset_index()\n",
    "    year_df.columns = ['Year-month', 'point change']\n",
    "    return year_df\n",
    "#     return month_move\n",
    "\n",
    "change_2k17 = month_diff(pd_bitcoin, year= '2017')"
   ]
  },
  {
   "cell_type": "code",
   "execution_count": 94,
   "metadata": {},
   "outputs": [
    {
     "data": {
      "image/png": "[encoded data removed]",
      "text/plain": [
       "<Figure size 576x576 with 1 Axes>"
      ]
     },
     "metadata": {},
     "output_type": "display_data"
    }
   ],
   "source": [
    "# change_2k17.plot(x = 'Year-month', y= 'point change', kind = 'line')\n",
    "# plt.show()\n",
    "\n",
    "# sns.lmplot('Year-month', 'point change', data=change_2k17, fit_reg = True )\n",
    "\n",
    "fig = plt.figure(figsize= (8,8))\n",
    "\n",
    "plt.plot(change_2k17['Year-month'], change_2k17['point change'])\n",
    "fig.autofmt_xdate()\n",
    "plt.xlabel('Year-month')\n",
    "plt.ylabel('highest to lowest price different in the month')\n",
    "plt.title('Bitcoin\"s highest-lowest price for each month')\n",
    "\n",
    "plt.show(fig)\n"
   ]
  },
  {
   "cell_type": "code",
   "execution_count": null,
   "metadata": {
    "collapsed": true
   },
   "outputs": [],
   "source": []
  }
 ],
 "metadata": {
  "kernelspec": {
   "display_name": "Python 3",
   "language": "python",
   "name": "python3"
  },
  "language_info": {
   "codemirror_mode": {
    "name": "ipython",
    "version": 3
   },
   "file_extension": ".py",
   "mimetype": "text/x-python",
   "name": "python",
   "nbconvert_exporter": "python",
   "pygments_lexer": "ipython3",
   "version": "3.6.3"
  }
 },
 "nbformat": 4,
 "nbformat_minor": 2
}
